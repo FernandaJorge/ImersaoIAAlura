{
  "nbformat": 4,
  "nbformat_minor": 0,
  "metadata": {
    "colab": {
      "provenance": [],
      "authorship_tag": "ABX9TyNq3mN4jGAPPkSX390SOfqh",
      "include_colab_link": true
    },
    "kernelspec": {
      "name": "python3",
      "display_name": "Python 3"
    },
    "language_info": {
      "name": "python"
    }
  },
  "cells": [
    {
      "cell_type": "markdown",
      "metadata": {
        "id": "view-in-github",
        "colab_type": "text"
      },
      "source": [
        "<a href=\"https://colab.research.google.com/github/FernandaJorge/ImersaoIAAlura/blob/main/MyFirstLLMGemini.ipynb\" target=\"_parent\"><img src=\"https://colab.research.google.com/assets/colab-badge.svg\" alt=\"Open In Colab\"/></a>"
      ]
    },
    {
      "cell_type": "markdown",
      "source": [
        "Instalando SDL do Google"
      ],
      "metadata": {
        "id": "uhG-2Q3HohPr"
      }
    },
    {
      "cell_type": "code",
      "execution_count": 1,
      "metadata": {
        "id": "9SrP8qwIoRT1"
      },
      "outputs": [],
      "source": [
        "!pip install -q -U google-generativeai"
      ]
    },
    {
      "cell_type": "code",
      "source": [
        "import google.generativeai as genai\n",
        "\n",
        "from google.colab import userdata\n",
        "api_key = userdata.get('SECRET_KEY')\n",
        "genai.configure(api_key=api_key)"
      ],
      "metadata": {
        "id": "TFyFX0gUpGWW"
      },
      "execution_count": 24,
      "outputs": []
    },
    {
      "cell_type": "markdown",
      "source": [
        "Listar os modelos disponiveis\n"
      ],
      "metadata": {
        "id": "hSZxzIiQpTiv"
      }
    },
    {
      "cell_type": "code",
      "source": [
        "for m in genai.list_models():\n",
        "  if 'generateContent' in m.supported_generation_methods:\n",
        "    print(m.name)\n"
      ],
      "metadata": {
        "colab": {
          "base_uri": "https://localhost:8080/",
          "height": 139
        },
        "id": "-ECM8TfqpSnv",
        "outputId": "2256bea4-f416-4cb9-ea50-4ba7349bcc89"
      },
      "execution_count": 25,
      "outputs": [
        {
          "output_type": "stream",
          "name": "stdout",
          "text": [
            "models/gemini-1.0-pro\n",
            "models/gemini-1.0-pro-001\n",
            "models/gemini-1.0-pro-latest\n",
            "models/gemini-1.0-pro-vision-latest\n",
            "models/gemini-1.5-pro-latest\n",
            "models/gemini-pro\n",
            "models/gemini-pro-vision\n"
          ]
        }
      ]
    },
    {
      "cell_type": "code",
      "source": [
        "generation_config = {\n",
        "    \"candidate_count\": 1,\n",
        "    \"temperature\": 1,\n",
        "}"
      ],
      "metadata": {
        "id": "KO2I_fAJyvnC"
      },
      "execution_count": 26,
      "outputs": []
    },
    {
      "cell_type": "code",
      "source": [
        "safety_settings = {\n",
        "    \"HARASSMENT\": \"BLOCK_NONE\",\n",
        "    \"HATE\": \"BLOCK_NONE\",\n",
        "    \"SEXUAL\": \"BLOCK_NONE\",\n",
        "    \"DANGEROUS\":\"BLOCK_NONE\",\n",
        "}"
      ],
      "metadata": {
        "id": "Z8tthVmg0AwA"
      },
      "execution_count": 27,
      "outputs": []
    },
    {
      "cell_type": "markdown",
      "source": [
        "Inicializando o modelo\n"
      ],
      "metadata": {
        "id": "V32BIkFe2jm2"
      }
    },
    {
      "cell_type": "code",
      "source": [
        "model = genai.GenerativeModel(model_name=\"gemini-1.0-pro\",\n",
        "                              generation_config=generation_config,\n",
        "                              safety_settings=safety_settings)"
      ],
      "metadata": {
        "id": "C_w3UY1W2p4v"
      },
      "execution_count": 28,
      "outputs": []
    },
    {
      "cell_type": "code",
      "source": [
        "response = model.generate_content(\"Vamos aprender varias coisas de IA Gemini. Me de sugestões\")\n",
        "print(response.text)"
      ],
      "metadata": {
        "colab": {
          "base_uri": "https://localhost:8080/",
          "height": 1000
        },
        "id": "7IDKxy5K4jmb",
        "outputId": "0ae2f512-56f7-47e4-e40f-d81fc93a2866"
      },
      "execution_count": 29,
      "outputs": [
        {
          "output_type": "stream",
          "name": "stdout",
          "text": [
            "**Aprendizado de Máquina (Machine Learning)**\n",
            "\n",
            "* Conceitos básicos de Aprendizado de Máquina\n",
            "* Algoritmos de Aprendizado Supervisionado (regressão, classificação)\n",
            "* Algoritmos de Aprendizado Não Supervisionado (clusterização, redução de dimensionalidade)\n",
            "* Avaliação e otimização de modelos de Machine Learning\n",
            "\n",
            "**Aprendizado Profundo (Deep Learning)**\n",
            "\n",
            "* Redes Neurais Artificiais (ANNs)\n",
            "* Redes Neurais Convolucionais (CNNs)\n",
            "* Redes Recorrentes (RNNs)\n",
            "* Processamento de Linguagem Natural (NLP) usando Aprendizado Profundo\n",
            "\n",
            "**Visão Computacional**\n",
            "\n",
            "* Reconhecimento de Objetos\n",
            "* Detecção de Borda e Segmentação de Objeto\n",
            "* Análise de Movimento e Rastreamento de Vídeo\n",
            "* Visão Estereoscópica\n",
            "\n",
            "**Processamento de Linguagem Natural (NLP)**\n",
            "\n",
            "* Processamento de Texto e Tokenização\n",
            "* Análise Sintática e Semântica\n",
            "* Computação Lexical e Inferência\n",
            "* Geração e Resumo de Texto\n",
            "\n",
            "**Análise de Dados de Grande Escala (Big Data)**\n",
            "\n",
            "* Coleta e Preparação de Dados\n",
            "* Armazenamento e Processamento de Dados\n",
            "* Análise Exploratória e Estatística\n",
            "* Modelagem Preditiva e Prescritiva\n",
            "\n",
            "**Inteligência Artificial Geral (AGI)**\n",
            "\n",
            "* O Desafio da IA Geral\n",
            "* Abordagens para IA Geral\n",
            "* Implicações Éticas e Sociais da AGI\n",
            "\n",
            "**Aplicações da Inteligência Artificial (IA)**\n",
            "\n",
            "* Aplicações da IA na Indústria\n",
            "* Aplicações da IA na Medicina\n",
            "* Aplicações da IA em Finanças\n",
            "* Aplicações da IA no Governo e no Setor Público\n",
            "\n",
            "**Ética e Implicações Sociais da IA**\n",
            "\n",
            "* Viés e Discriminação na IA\n",
            "* Responsabilidade e Transparência\n",
            "* Os Trabalhos do Futuro e o Impacto Econômico da IA\n",
            "* Questões Legais e Regulamentações em torno da IA\n",
            "\n",
            "**Tendências e Avanços da IA**\n",
            "\n",
            "* IA Conversacional e Agentes Virtuais\n",
            "* IA Criativa e Geração de Conteúdo\n",
            "* IA Robótica e Sistemas Autônomos\n",
            "* IA Quântica e Computação Clássica\n"
          ]
        }
      ]
    },
    {
      "cell_type": "code",
      "source": [
        "chat = model.start_chat(history=[])"
      ],
      "metadata": {
        "id": "i_w7xiHW4_hG"
      },
      "execution_count": 30,
      "outputs": []
    },
    {
      "cell_type": "code",
      "source": [
        "prompt = input(\"Esperando prompt: \")\n",
        "\n",
        "while prompt != \"fim\":\n",
        "  response = chat.send_message(prompt)\n",
        "  print(\"Resposta: \", response.text, \"\\n\")\n",
        "  prompt = input(\"Esperando prompt: \")"
      ],
      "metadata": {
        "colab": {
          "base_uri": "https://localhost:8080/",
          "height": 191
        },
        "id": "WIe406f86KVs",
        "outputId": "41d05718-131d-46e4-bac1-53c8e1942ad4"
      },
      "execution_count": 31,
      "outputs": [
        {
          "name": "stdout",
          "output_type": "stream",
          "text": [
            "Esperando prompt: quantos estados tem o Brasil?\n",
            "Resposta:  27 \n",
            "\n",
            "Esperando prompt: quantos deles ficam na costa?\n",
            "Resposta:  17 \n",
            "\n",
            "Esperando prompt: quantos deles são do sudeste?\n",
            "Resposta:  4 \n",
            "\n",
            "Esperando prompt: fim\n"
          ]
        }
      ]
    },
    {
      "cell_type": "markdown",
      "source": [
        "Melhorando o a visualização"
      ],
      "metadata": {
        "id": "zlcHtt9f9YWX"
      }
    },
    {
      "cell_type": "code",
      "source": [
        "import pathlib\n",
        "import textwrap\n",
        "\n",
        "import google.generativeai as genai\n",
        "\n",
        "from IPython.display import display\n",
        "from IPython.display import Markdown\n",
        "\n",
        "\n",
        "def to_markdown(text):\n",
        "  text = text.replace('•', '  *')\n",
        "  return Markdown(textwrap.indent(text, '> ', predicate=lambda _: True))\n",
        "\n",
        "for message in chat.history:\n",
        "  display(to_markdown(f'**{message.role}**: {message.parts[0].text}'))\n",
        "  print('------------------------------------------------')"
      ],
      "metadata": {
        "colab": {
          "base_uri": "https://localhost:8080/",
          "height": 393
        },
        "id": "teFVSskb9ds1",
        "outputId": "1d21791c-2abe-4a9d-ecf5-d9998d4a9d3c"
      },
      "execution_count": 32,
      "outputs": [
        {
          "output_type": "display_data",
          "data": {
            "text/plain": [
              "<IPython.core.display.Markdown object>"
            ],
            "text/markdown": "> **user**: quantos estados tem o Brasil?"
          },
          "metadata": {}
        },
        {
          "output_type": "stream",
          "name": "stdout",
          "text": [
            "------------------------------------------------\n"
          ]
        },
        {
          "output_type": "display_data",
          "data": {
            "text/plain": [
              "<IPython.core.display.Markdown object>"
            ],
            "text/markdown": "> **model**: 27"
          },
          "metadata": {}
        },
        {
          "output_type": "stream",
          "name": "stdout",
          "text": [
            "------------------------------------------------\n"
          ]
        },
        {
          "output_type": "display_data",
          "data": {
            "text/plain": [
              "<IPython.core.display.Markdown object>"
            ],
            "text/markdown": "> **user**: quantos deles ficam na costa?"
          },
          "metadata": {}
        },
        {
          "output_type": "stream",
          "name": "stdout",
          "text": [
            "------------------------------------------------\n"
          ]
        },
        {
          "output_type": "display_data",
          "data": {
            "text/plain": [
              "<IPython.core.display.Markdown object>"
            ],
            "text/markdown": "> **model**: 17"
          },
          "metadata": {}
        },
        {
          "output_type": "stream",
          "name": "stdout",
          "text": [
            "------------------------------------------------\n"
          ]
        },
        {
          "output_type": "display_data",
          "data": {
            "text/plain": [
              "<IPython.core.display.Markdown object>"
            ],
            "text/markdown": "> **user**: quantos deles são do sudeste?"
          },
          "metadata": {}
        },
        {
          "output_type": "stream",
          "name": "stdout",
          "text": [
            "------------------------------------------------\n"
          ]
        },
        {
          "output_type": "display_data",
          "data": {
            "text/plain": [
              "<IPython.core.display.Markdown object>"
            ],
            "text/markdown": "> **model**: 4"
          },
          "metadata": {}
        },
        {
          "output_type": "stream",
          "name": "stdout",
          "text": [
            "------------------------------------------------\n"
          ]
        }
      ]
    },
    {
      "cell_type": "code",
      "source": [],
      "metadata": {
        "id": "t2ncffVE7JKt"
      },
      "execution_count": null,
      "outputs": []
    }
  ]
}